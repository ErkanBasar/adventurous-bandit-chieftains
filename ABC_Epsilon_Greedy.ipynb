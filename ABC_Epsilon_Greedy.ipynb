{
 "cells": [
  {
   "cell_type": "code",
   "execution_count": 1,
   "metadata": {
    "collapsed": true
   },
   "outputs": [],
   "source": [
    "import api\n",
    "api.authenticate('adventurous-bandit-chieftains','11ddbaf3386aea1f2974eee984542152')\n"
   ]
  },
  {
   "cell_type": "code",
   "execution_count": 2,
   "metadata": {
    "collapsed": true
   },
   "outputs": [],
   "source": [
    "import random\n",
    "\n",
    "def ind_max(x):\n",
    "    m = max(x)\n",
    "    return x.index(m)\n",
    "\n",
    "class EpsilonGreedy():\n",
    "    def __init__(self, epsilon, counts, values):\n",
    "        self.epsilon = epsilon\n",
    "        self.counts = counts\n",
    "        self.values = values\n",
    "        return\n",
    "\n",
    "    def initialize(self, n_arms):\n",
    "        self.counts = [0 for col in range(n_arms)]\n",
    "        self.values = [0.0 for col in range(n_arms)]\n",
    "        return\n",
    "\n",
    "    def select_arm(self):\n",
    "        if random.random() > self.epsilon:\n",
    "            return ind_max(self.values)\n",
    "        else:\n",
    "            return random.randrange(len(self.values))\n",
    "  \n",
    "    def update(self, chosen_arm, reward):\n",
    "        self.counts[chosen_arm] = self.counts[chosen_arm] + 1\n",
    "        n = self.counts[chosen_arm]\n",
    "    \n",
    "        value = self.values[chosen_arm]\n",
    "        new_value = ((n - 1) / float(n)) * value + (1 / float(n)) * reward\n",
    "        self.values[chosen_arm] = new_value\n",
    "        return"
   ]
  },
  {
   "cell_type": "code",
   "execution_count": 11,
   "metadata": {
    "collapsed": false
   },
   "outputs": [
    {
     "name": "stdout",
     "output_type": "stream",
     "text": [
      "There are 540 arms.\n"
     ]
    }
   ],
   "source": [
    "import numpy as np;\n",
    "import itertools;\n",
    "\n",
    "headers = [5, 15, 35]\n",
    "languages = ['NL', 'EN', 'GE']\n",
    "adtypes = ['skyscraper', 'square', 'banner']\n",
    "colors = ['green', 'red', 'black', 'white']\n",
    "prices = np.linspace(5.0, 30.0, 5)\n",
    "\n",
    "arms = list(itertools.product(headers, languages, adtypes, colors, prices))\n",
    "\n",
    "print(\"There are \"+str(len(arms))+\" arms.\")\n",
    "api.reset_leaderboard();\n",
    "bandit = EpsilonGreedy(0.2, None, None);\n",
    "bandit.initialize(len(arms));\n"
   ]
  },
  {
   "cell_type": "code",
   "execution_count": 16,
   "metadata": {
    "collapsed": false
   },
   "outputs": [
    {
     "name": "stdout",
     "output_type": "stream",
     "text": [
      "0\n",
      "100\n",
      "200\n",
      "300\n",
      "400\n",
      "500\n",
      "600\n",
      "700\n",
      "800\n",
      "900\n",
      "1000\n",
      "1100\n",
      "1200\n",
      "1300\n",
      "1400\n",
      "1500\n",
      "1600\n",
      "1700\n",
      "1800\n",
      "1900\n",
      "2000\n",
      "2100\n",
      "2200\n",
      "2300\n",
      "2400\n",
      "2500\n",
      "2600\n",
      "2700\n",
      "2800\n",
      "2900\n",
      "3000\n",
      "3100\n",
      "3200\n",
      "3300\n",
      "3400\n",
      "3500\n",
      "3600\n",
      "3700\n",
      "3800\n",
      "3900\n",
      "4000\n",
      "4100\n",
      "4200\n",
      "4300\n",
      "4400\n",
      "4500\n",
      "4600\n",
      "4700\n",
      "4800\n",
      "4900\n",
      "5000\n",
      "5100\n",
      "5200\n",
      "5300\n",
      "5400\n",
      "5500\n",
      "5600\n",
      "5700\n",
      "5800\n",
      "5900\n",
      "6000\n",
      "6100\n",
      "6200\n",
      "6300\n",
      "6400\n",
      "6500\n",
      "6600\n",
      "6700\n",
      "6800\n",
      "6900\n",
      "7000\n",
      "7100\n",
      "7200\n",
      "7300\n",
      "7400\n",
      "7500\n",
      "7600\n",
      "7700\n",
      "7800\n",
      "7900\n",
      "8000\n",
      "8100\n",
      "8200\n",
      "8300\n",
      "8400\n",
      "8500\n",
      "8600\n",
      "8700\n",
      "8800\n",
      "8900\n",
      "9000\n",
      "9100\n",
      "9200\n",
      "9300\n",
      "9400\n",
      "9500\n",
      "9600\n",
      "9700\n",
      "9800\n",
      "9900\n",
      "Mean reward: 22.65 euro\n"
     ]
    }
   ],
   "source": [
    "run_id = 5002\n",
    "\n",
    "cumulative_reward = 0\n",
    "n = 10000\n",
    "\n",
    "for request_number in xrange(n):\n",
    "\n",
    "    if ((request_number%100)==0):\n",
    "        print request_number;\n",
    "    context = api.get_context(run_id, request_number)\n",
    "    #print context['context'].values()\n",
    "    offer_idx = bandit.select_arm();\n",
    "    offer = arms[offer_idx];\n",
    "    \n",
    "    result = api.serve_page(run_id, request_number,\n",
    "        header=offer[0],\n",
    "        language=offer[1],\n",
    "        adtype=offer[2],\n",
    "        color=offer[3],\n",
    "        price=offer[4])\n",
    "\n",
    "    #print result, offer[4] * result['success']\n",
    "    \n",
    "    bandit.update(offer_idx, offer[4] * result['success'])\n",
    "    \n",
    "    cumulative_reward += offer[4] * result['success']\n",
    "\n",
    "mean_reward = cumulative_reward / n\n",
    "print \"Mean reward: %.2f euro\" % mean_reward"
   ]
  },
  {
   "cell_type": "code",
   "execution_count": null,
   "metadata": {
    "collapsed": true
   },
   "outputs": [],
   "source": []
  }
 ],
 "metadata": {
  "kernelspec": {
   "display_name": "Python 2",
   "language": "python",
   "name": "python2"
  },
  "language_info": {
   "codemirror_mode": {
    "name": "ipython",
    "version": 2
   },
   "file_extension": ".py",
   "mimetype": "text/x-python",
   "name": "python",
   "nbconvert_exporter": "python",
   "pygments_lexer": "ipython2",
   "version": "2.7.11"
  }
 },
 "nbformat": 4,
 "nbformat_minor": 0
}
